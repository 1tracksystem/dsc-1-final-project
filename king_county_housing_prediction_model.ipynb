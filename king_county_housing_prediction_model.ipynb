{
 "cells": [
  {
   "cell_type": "markdown",
   "metadata": {},
   "source": [
    "# Data Science Module 1 Final Project: <br>Predicting the Sale Price of Houses in King County"
   ]
  },
  {
   "cell_type": "markdown",
   "metadata": {},
   "source": [
    "Student Names: Natasha Kacoroski and David Kaspar <br>\n",
    "Student Pace: Full time <br>\n",
    "Scheduled Project Review Date/Time: 17 April 2019, 10:45 a.m. <br>\n",
    "Instructor Names: Miles Erickson and Greg Damico <br>\n",
    "Blog Post URL: TBD <br>"
   ]
  },
  {
   "cell_type": "markdown",
   "metadata": {},
   "source": [
    "## Step 1: Load Libraries and Obtain Data"
   ]
  },
  {
   "cell_type": "markdown",
   "metadata": {},
   "source": [
    "We import the following libraries."
   ]
  },
  {
   "cell_type": "code",
   "execution_count": 1,
   "metadata": {},
   "outputs": [],
   "source": [
    "import pandas as pd # to easily manipulate data in dataframes\n",
    "import numpy as np # to perform mathematical functions with the data\n",
    "import seaborn as sns # to graph the data\n",
    "import matplotlib.pyplot as plt # to graph the data\n",
    "import sklearn as sk # to build a regression model with the data\n",
    "from sklearn.model_selection import train_test_split # to split the data into training and testing groups\n",
    "from sklearn.linear_model import LinearRegression # to perform regressions on the data\n",
    "from scipy import stats # to determine data statistics\n",
    "from scipy.stats import zscore, norm # to take the zscore and norm of the data\n",
    "\n",
    "# to make graph figures inline with the jupyter notebook\n",
    "%matplotlib inline "
   ]
  },
  {
   "cell_type": "markdown",
   "metadata": {},
   "source": [
    "Then import the data from a csv file into a pandas dataframe."
   ]
  },
  {
   "cell_type": "code",
   "execution_count": 2,
   "metadata": {},
   "outputs": [],
   "source": [
    "df_total = pd.read_csv('kc_house_data.csv')"
   ]
  },
  {
   "cell_type": "markdown",
   "metadata": {},
   "source": [
    "And save 15% of the data to validate our model at the end."
   ]
  },
  {
   "cell_type": "code",
   "execution_count": 3,
   "metadata": {},
   "outputs": [],
   "source": [
    "msk = np.random.rand(len(df_total)) < 0.85 # Set percentage of data aside\n",
    "df = df_total[msk].copy() # Assign data for training and testing to dataframe\n",
    "validate_df = df_total[~msk].copy() # Assign data to validate to dataframe"
   ]
  },
  {
   "cell_type": "markdown",
   "metadata": {},
   "source": [
    "## Step 2: Scrub Data"
   ]
  },
  {
   "cell_type": "markdown",
   "metadata": {},
   "source": [
    "### Preview and Initial Observations"
   ]
  },
  {
   "cell_type": "markdown",
   "metadata": {},
   "source": [
    "We transpose the head of the data to see all the columns easily."
   ]
  },
  {
   "cell_type": "code",
   "execution_count": 4,
   "metadata": {},
   "outputs": [
    {
     "data": {
      "text/html": [
       "<div>\n",
       "<style scoped>\n",
       "    .dataframe tbody tr th:only-of-type {\n",
       "        vertical-align: middle;\n",
       "    }\n",
       "\n",
       "    .dataframe tbody tr th {\n",
       "        vertical-align: top;\n",
       "    }\n",
       "\n",
       "    .dataframe thead th {\n",
       "        text-align: right;\n",
       "    }\n",
       "</style>\n",
       "<table border=\"1\" class=\"dataframe\">\n",
       "  <thead>\n",
       "    <tr style=\"text-align: right;\">\n",
       "      <th></th>\n",
       "      <th>0</th>\n",
       "      <th>3</th>\n",
       "      <th>4</th>\n",
       "      <th>5</th>\n",
       "      <th>6</th>\n",
       "    </tr>\n",
       "  </thead>\n",
       "  <tbody>\n",
       "    <tr>\n",
       "      <th>id</th>\n",
       "      <td>7129300520</td>\n",
       "      <td>2487200875</td>\n",
       "      <td>1954400510</td>\n",
       "      <td>7237550310</td>\n",
       "      <td>1321400060</td>\n",
       "    </tr>\n",
       "    <tr>\n",
       "      <th>date</th>\n",
       "      <td>10/13/2014</td>\n",
       "      <td>12/9/2014</td>\n",
       "      <td>2/18/2015</td>\n",
       "      <td>5/12/2014</td>\n",
       "      <td>6/27/2014</td>\n",
       "    </tr>\n",
       "    <tr>\n",
       "      <th>price</th>\n",
       "      <td>221900</td>\n",
       "      <td>604000</td>\n",
       "      <td>510000</td>\n",
       "      <td>1.23e+06</td>\n",
       "      <td>257500</td>\n",
       "    </tr>\n",
       "    <tr>\n",
       "      <th>bedrooms</th>\n",
       "      <td>3</td>\n",
       "      <td>4</td>\n",
       "      <td>3</td>\n",
       "      <td>4</td>\n",
       "      <td>3</td>\n",
       "    </tr>\n",
       "    <tr>\n",
       "      <th>bathrooms</th>\n",
       "      <td>1</td>\n",
       "      <td>3</td>\n",
       "      <td>2</td>\n",
       "      <td>4.5</td>\n",
       "      <td>2.25</td>\n",
       "    </tr>\n",
       "    <tr>\n",
       "      <th>sqft_living</th>\n",
       "      <td>1180</td>\n",
       "      <td>1960</td>\n",
       "      <td>1680</td>\n",
       "      <td>5420</td>\n",
       "      <td>1715</td>\n",
       "    </tr>\n",
       "    <tr>\n",
       "      <th>sqft_lot</th>\n",
       "      <td>5650</td>\n",
       "      <td>5000</td>\n",
       "      <td>8080</td>\n",
       "      <td>101930</td>\n",
       "      <td>6819</td>\n",
       "    </tr>\n",
       "    <tr>\n",
       "      <th>floors</th>\n",
       "      <td>1</td>\n",
       "      <td>1</td>\n",
       "      <td>1</td>\n",
       "      <td>1</td>\n",
       "      <td>2</td>\n",
       "    </tr>\n",
       "    <tr>\n",
       "      <th>waterfront</th>\n",
       "      <td>NaN</td>\n",
       "      <td>0</td>\n",
       "      <td>0</td>\n",
       "      <td>0</td>\n",
       "      <td>0</td>\n",
       "    </tr>\n",
       "    <tr>\n",
       "      <th>view</th>\n",
       "      <td>0</td>\n",
       "      <td>0</td>\n",
       "      <td>0</td>\n",
       "      <td>0</td>\n",
       "      <td>0</td>\n",
       "    </tr>\n",
       "    <tr>\n",
       "      <th>condition</th>\n",
       "      <td>3</td>\n",
       "      <td>5</td>\n",
       "      <td>3</td>\n",
       "      <td>3</td>\n",
       "      <td>3</td>\n",
       "    </tr>\n",
       "    <tr>\n",
       "      <th>grade</th>\n",
       "      <td>7</td>\n",
       "      <td>7</td>\n",
       "      <td>8</td>\n",
       "      <td>11</td>\n",
       "      <td>7</td>\n",
       "    </tr>\n",
       "    <tr>\n",
       "      <th>sqft_above</th>\n",
       "      <td>1180</td>\n",
       "      <td>1050</td>\n",
       "      <td>1680</td>\n",
       "      <td>3890</td>\n",
       "      <td>1715</td>\n",
       "    </tr>\n",
       "    <tr>\n",
       "      <th>sqft_basement</th>\n",
       "      <td>0.0</td>\n",
       "      <td>910.0</td>\n",
       "      <td>0.0</td>\n",
       "      <td>1530.0</td>\n",
       "      <td>?</td>\n",
       "    </tr>\n",
       "    <tr>\n",
       "      <th>yr_built</th>\n",
       "      <td>1955</td>\n",
       "      <td>1965</td>\n",
       "      <td>1987</td>\n",
       "      <td>2001</td>\n",
       "      <td>1995</td>\n",
       "    </tr>\n",
       "    <tr>\n",
       "      <th>yr_renovated</th>\n",
       "      <td>0</td>\n",
       "      <td>0</td>\n",
       "      <td>0</td>\n",
       "      <td>0</td>\n",
       "      <td>0</td>\n",
       "    </tr>\n",
       "    <tr>\n",
       "      <th>zipcode</th>\n",
       "      <td>98178</td>\n",
       "      <td>98136</td>\n",
       "      <td>98074</td>\n",
       "      <td>98053</td>\n",
       "      <td>98003</td>\n",
       "    </tr>\n",
       "    <tr>\n",
       "      <th>lat</th>\n",
       "      <td>47.5112</td>\n",
       "      <td>47.5208</td>\n",
       "      <td>47.6168</td>\n",
       "      <td>47.6561</td>\n",
       "      <td>47.3097</td>\n",
       "    </tr>\n",
       "    <tr>\n",
       "      <th>long</th>\n",
       "      <td>-122.257</td>\n",
       "      <td>-122.393</td>\n",
       "      <td>-122.045</td>\n",
       "      <td>-122.005</td>\n",
       "      <td>-122.327</td>\n",
       "    </tr>\n",
       "    <tr>\n",
       "      <th>sqft_living15</th>\n",
       "      <td>1340</td>\n",
       "      <td>1360</td>\n",
       "      <td>1800</td>\n",
       "      <td>4760</td>\n",
       "      <td>2238</td>\n",
       "    </tr>\n",
       "    <tr>\n",
       "      <th>sqft_lot15</th>\n",
       "      <td>5650</td>\n",
       "      <td>5000</td>\n",
       "      <td>7503</td>\n",
       "      <td>101930</td>\n",
       "      <td>6819</td>\n",
       "    </tr>\n",
       "  </tbody>\n",
       "</table>\n",
       "</div>"
      ],
      "text/plain": [
       "                        0           3           4           5           6\n",
       "id             7129300520  2487200875  1954400510  7237550310  1321400060\n",
       "date           10/13/2014   12/9/2014   2/18/2015   5/12/2014   6/27/2014\n",
       "price              221900      604000      510000    1.23e+06      257500\n",
       "bedrooms                3           4           3           4           3\n",
       "bathrooms               1           3           2         4.5        2.25\n",
       "sqft_living          1180        1960        1680        5420        1715\n",
       "sqft_lot             5650        5000        8080      101930        6819\n",
       "floors                  1           1           1           1           2\n",
       "waterfront            NaN           0           0           0           0\n",
       "view                    0           0           0           0           0\n",
       "condition               3           5           3           3           3\n",
       "grade                   7           7           8          11           7\n",
       "sqft_above           1180        1050        1680        3890        1715\n",
       "sqft_basement         0.0       910.0         0.0      1530.0           ?\n",
       "yr_built             1955        1965        1987        2001        1995\n",
       "yr_renovated            0           0           0           0           0\n",
       "zipcode             98178       98136       98074       98053       98003\n",
       "lat               47.5112     47.5208     47.6168     47.6561     47.3097\n",
       "long             -122.257    -122.393    -122.045    -122.005    -122.327\n",
       "sqft_living15        1340        1360        1800        4760        2238\n",
       "sqft_lot15           5650        5000        7503      101930        6819"
      ]
     },
     "execution_count": 4,
     "metadata": {},
     "output_type": "execute_result"
    }
   ],
   "source": [
    "df.head().T"
   ]
  },
  {
   "cell_type": "markdown",
   "metadata": {},
   "source": [
    "Columns are correctly labeled. To confirm our understanding we import the markdown documentation file on column information."
   ]
  },
  {
   "cell_type": "code",
   "execution_count": 5,
   "metadata": {},
   "outputs": [
    {
     "data": {
      "text/markdown": [
       "COLUMN NAMES AND DESCRIPTIONS FOR KING COUNTRY DATA SET\n",
       "* **id** - unique identified for a house\n",
       "* **dateDate** - house was sold\n",
       "* **pricePrice** -  is prediction target\n",
       "* **bedroomsNumber** -  of Bedrooms/House\n",
       "* **bathroomsNumber** -  of bathrooms/bedrooms\n",
       "* **sqft_livingsquare** -  footage of the home\n",
       "* **sqft_lotsquare** -  footage of the lot\n",
       "* **floorsTotal** -  floors (levels) in house\n",
       "* **waterfront** - House which has a view to a waterfront\n",
       "* **view** - Has been viewed\n",
       "* **condition** - How good the condition is ( Overall )\n",
       "* **grade** - overall grade given to the housing unit, based on King County grading system\n",
       "* **sqft_above** - square footage of house apart from basement\n",
       "* **sqft_basement** - square footage of the basement\n",
       "* **yr_built** - Built Year\n",
       "* **yr_renovated** - Year when house was renovated\n",
       "* **zipcode** - zip\n",
       "* **lat** - Latitude coordinate\n",
       "* **long** - Longitude coordinate\n",
       "* **sqft_living15** - The square footage of interior housing living space for the nearest 15 neighbors\n",
       "* **sqft_lot15** - The square footage of the land lots of the nearest 15 neighbors\n"
      ],
      "text/plain": [
       "<IPython.core.display.Markdown object>"
      ]
     },
     "metadata": {},
     "output_type": "display_data"
    }
   ],
   "source": [
    "# adapted from: https://groups.google.com/forum/#!topic/jupyter/uOe3PyxbcqU\n",
    "\n",
    "from IPython.display import display, Markdown\n",
    "\n",
    "with open('column_names.md', 'r') as fh:\n",
    "    content = fh.read()\n",
    "\n",
    "display(Markdown(content))"
   ]
  },
  {
   "cell_type": "markdown",
   "metadata": {},
   "source": [
    "Most column descriptions confirm what we inferred from the column name. We learn that view means whether the house has been viewed (assumed to be potential buyers), and sqft_living15 and sqft_lot15 refer to the square footage of interior housing living space and land lots for nearest 15 neighbors. Also of interest is the grade given to housing unit based on King County grading system found here: https://info.kingcounty.gov/assessor/esales/Glossary.aspx?type=r.\n",
    "\n",
    "BUILDING GRADE <br>\n",
    "Represents the construction quality of improvements. Grades run from grade 1 to 13. Generally defined as:\n",
    "\n",
    "1-3 = Falls short of minimum building standards. Normally cabin or inferior structure.\n",
    "\n",
    "4 = Generally older, low quality construction. Does not meet code.\n",
    "\n",
    "5 = Low construction costs and workmanship. Small, simple design.\n",
    "\n",
    "6 = Lowest grade currently meeting building code. Low quality materials and simple designs.\n",
    "\n",
    "7 = Average grade of construction and design. Commonly seen in plats and older sub-divisions.\n",
    "\n",
    "8 = Just above average in construction and design. Usually better materials in both the exterior and interior finish     work.\n",
    "\n",
    "9 = Better architectural design with extra interior and exterior design and quality.\n",
    "\n",
    "10 = Homes of this quality generally have high quality features. Finish work is better and more design quality is seen in the floor plans. Generally have a larger square footage.\n",
    "\n",
    "11 = Custom design and higher quality finish work with added amenities of solid woods, bathroom fixtures and more luxurious options.\n",
    "\n",
    "12 = Custom design and excellent builders. All materials are of the highest quality and all conveniences are present.\n",
    "\n",
    "13  = Generally custom designed and built. Mansion level. Large amount of highest quality cabinet work, wood trim, marble, entry ways etc. "
   ]
  },
  {
   "cell_type": "markdown",
   "metadata": {},
   "source": [
    "After understanding the column descriptions, we look at the value information for each column."
   ]
  },
  {
   "cell_type": "code",
   "execution_count": 6,
   "metadata": {},
   "outputs": [
    {
     "name": "stdout",
     "output_type": "stream",
     "text": [
      "<class 'pandas.core.frame.DataFrame'>\n",
      "Int64Index: 18437 entries, 0 to 21596\n",
      "Data columns (total 21 columns):\n",
      "id               18437 non-null int64\n",
      "date             18437 non-null object\n",
      "price            18437 non-null float64\n",
      "bedrooms         18437 non-null int64\n",
      "bathrooms        18437 non-null float64\n",
      "sqft_living      18437 non-null int64\n",
      "sqft_lot         18437 non-null int64\n",
      "floors           18437 non-null float64\n",
      "waterfront       16405 non-null float64\n",
      "view             18386 non-null float64\n",
      "condition        18437 non-null int64\n",
      "grade            18437 non-null int64\n",
      "sqft_above       18437 non-null int64\n",
      "sqft_basement    18437 non-null object\n",
      "yr_built         18437 non-null int64\n",
      "yr_renovated     15170 non-null float64\n",
      "zipcode          18437 non-null int64\n",
      "lat              18437 non-null float64\n",
      "long             18437 non-null float64\n",
      "sqft_living15    18437 non-null int64\n",
      "sqft_lot15       18437 non-null int64\n",
      "dtypes: float64(8), int64(11), object(2)\n",
      "memory usage: 3.1+ MB\n"
     ]
    }
   ],
   "source": [
    "df.info()"
   ]
  },
  {
   "cell_type": "markdown",
   "metadata": {},
   "source": [
    "Our dataframe has 21,587 entries and 21 columns, with data types of float64(8), int64(11), and object(2). There are null values in waterfront, view, and yr_renovated. Columns to consider changing data types are: id from int64 to a object (value is independent of magnitude), date to a timestamp (makes it easier to manipulate), sqft_basement from object to int64 (value is dependent on magnitude), and zipcode from int64 to object (value is independent of magnitude). Also, yr_built is int64 while yr_renovated is float64, which is odd and needs further investigation. It would also be useful to know which columns contain continuous or discrete data because that will influence how we deal with null values and will be a factor in determining on-hot encoding."
   ]
  },
  {
   "cell_type": "markdown",
   "metadata": {},
   "source": [
    "### Address null values and determine if values are continuous or discrete"
   ]
  },
  {
   "cell_type": "markdown",
   "metadata": {},
   "source": [
    "We start by making a function that returns the null value percentange and whether data is continuous or discrete."
   ]
  },
  {
   "cell_type": "code",
   "execution_count": 7,
   "metadata": {},
   "outputs": [],
   "source": [
    "def null_percentage_and_data_continuity(df):\n",
    "    \"\"\"Returns data type, percentage of null values in data column if nulls exist, \n",
    "    and whether data is continuous or discrete.\"\"\"\n",
    "    display_df = df.head(1).applymap(type) # make dataframe of data types\n",
    "    percent_nan = {} # null percentage dictionary\n",
    "    disc_or_cont = {} # discrete or continuous dictionary\n",
    "    for i, col in enumerate(df): # iterate through each column\n",
    "        col_percent_nan = round(100*df[col].isna().sum() / len(df[col]), 2) # find null percentage\n",
    "        percent_nan[col] = [col_percent_nan] # add to dictionary\n",
    "        if df[col].nunique() < 100: # less than 100 unique values, add to dictionary as discrete, otherwise continuous\n",
    "            disc_or_cont[col] = ['disc'] \n",
    "        else:\n",
    "            disc_or_cont[col] = ['cont'] \n",
    "    percent_nan_df = pd.DataFrame.from_dict(percent_nan, orient='columns') # make dataframes of dictionaries\n",
    "    disc_or_cont_df = pd.DataFrame.from_dict(disc_or_cont, orient='columns')\n",
    "    final = pd.concat([display_df, percent_nan_df, disc_or_cont_df]).T # combine all dataframes in one\n",
    "    final.columns = ['dtype', 'percent null', 'cont or disc']\n",
    "    return final # return combined dataframe"
   ]
  },
  {
   "cell_type": "code",
   "execution_count": 8,
   "metadata": {},
   "outputs": [
    {
     "data": {
      "text/html": [
       "<div>\n",
       "<style scoped>\n",
       "    .dataframe tbody tr th:only-of-type {\n",
       "        vertical-align: middle;\n",
       "    }\n",
       "\n",
       "    .dataframe tbody tr th {\n",
       "        vertical-align: top;\n",
       "    }\n",
       "\n",
       "    .dataframe thead th {\n",
       "        text-align: right;\n",
       "    }\n",
       "</style>\n",
       "<table border=\"1\" class=\"dataframe\">\n",
       "  <thead>\n",
       "    <tr style=\"text-align: right;\">\n",
       "      <th></th>\n",
       "      <th>dtype</th>\n",
       "      <th>percent null</th>\n",
       "      <th>cont or disc</th>\n",
       "    </tr>\n",
       "  </thead>\n",
       "  <tbody>\n",
       "    <tr>\n",
       "      <th>id</th>\n",
       "      <td>&lt;class 'int'&gt;</td>\n",
       "      <td>0</td>\n",
       "      <td>cont</td>\n",
       "    </tr>\n",
       "    <tr>\n",
       "      <th>date</th>\n",
       "      <td>&lt;class 'str'&gt;</td>\n",
       "      <td>0</td>\n",
       "      <td>cont</td>\n",
       "    </tr>\n",
       "    <tr>\n",
       "      <th>price</th>\n",
       "      <td>&lt;class 'float'&gt;</td>\n",
       "      <td>0</td>\n",
       "      <td>cont</td>\n",
       "    </tr>\n",
       "    <tr>\n",
       "      <th>bedrooms</th>\n",
       "      <td>&lt;class 'int'&gt;</td>\n",
       "      <td>0</td>\n",
       "      <td>disc</td>\n",
       "    </tr>\n",
       "    <tr>\n",
       "      <th>bathrooms</th>\n",
       "      <td>&lt;class 'float'&gt;</td>\n",
       "      <td>0</td>\n",
       "      <td>disc</td>\n",
       "    </tr>\n",
       "    <tr>\n",
       "      <th>sqft_living</th>\n",
       "      <td>&lt;class 'int'&gt;</td>\n",
       "      <td>0</td>\n",
       "      <td>cont</td>\n",
       "    </tr>\n",
       "    <tr>\n",
       "      <th>sqft_lot</th>\n",
       "      <td>&lt;class 'int'&gt;</td>\n",
       "      <td>0</td>\n",
       "      <td>cont</td>\n",
       "    </tr>\n",
       "    <tr>\n",
       "      <th>floors</th>\n",
       "      <td>&lt;class 'float'&gt;</td>\n",
       "      <td>0</td>\n",
       "      <td>disc</td>\n",
       "    </tr>\n",
       "    <tr>\n",
       "      <th>waterfront</th>\n",
       "      <td>&lt;class 'float'&gt;</td>\n",
       "      <td>11.02</td>\n",
       "      <td>disc</td>\n",
       "    </tr>\n",
       "    <tr>\n",
       "      <th>view</th>\n",
       "      <td>&lt;class 'float'&gt;</td>\n",
       "      <td>0.28</td>\n",
       "      <td>disc</td>\n",
       "    </tr>\n",
       "    <tr>\n",
       "      <th>condition</th>\n",
       "      <td>&lt;class 'int'&gt;</td>\n",
       "      <td>0</td>\n",
       "      <td>disc</td>\n",
       "    </tr>\n",
       "    <tr>\n",
       "      <th>grade</th>\n",
       "      <td>&lt;class 'int'&gt;</td>\n",
       "      <td>0</td>\n",
       "      <td>disc</td>\n",
       "    </tr>\n",
       "    <tr>\n",
       "      <th>sqft_above</th>\n",
       "      <td>&lt;class 'int'&gt;</td>\n",
       "      <td>0</td>\n",
       "      <td>cont</td>\n",
       "    </tr>\n",
       "    <tr>\n",
       "      <th>sqft_basement</th>\n",
       "      <td>&lt;class 'str'&gt;</td>\n",
       "      <td>0</td>\n",
       "      <td>cont</td>\n",
       "    </tr>\n",
       "    <tr>\n",
       "      <th>yr_built</th>\n",
       "      <td>&lt;class 'int'&gt;</td>\n",
       "      <td>0</td>\n",
       "      <td>cont</td>\n",
       "    </tr>\n",
       "    <tr>\n",
       "      <th>yr_renovated</th>\n",
       "      <td>&lt;class 'float'&gt;</td>\n",
       "      <td>17.72</td>\n",
       "      <td>disc</td>\n",
       "    </tr>\n",
       "    <tr>\n",
       "      <th>zipcode</th>\n",
       "      <td>&lt;class 'int'&gt;</td>\n",
       "      <td>0</td>\n",
       "      <td>disc</td>\n",
       "    </tr>\n",
       "    <tr>\n",
       "      <th>lat</th>\n",
       "      <td>&lt;class 'float'&gt;</td>\n",
       "      <td>0</td>\n",
       "      <td>cont</td>\n",
       "    </tr>\n",
       "    <tr>\n",
       "      <th>long</th>\n",
       "      <td>&lt;class 'float'&gt;</td>\n",
       "      <td>0</td>\n",
       "      <td>cont</td>\n",
       "    </tr>\n",
       "    <tr>\n",
       "      <th>sqft_living15</th>\n",
       "      <td>&lt;class 'int'&gt;</td>\n",
       "      <td>0</td>\n",
       "      <td>cont</td>\n",
       "    </tr>\n",
       "    <tr>\n",
       "      <th>sqft_lot15</th>\n",
       "      <td>&lt;class 'int'&gt;</td>\n",
       "      <td>0</td>\n",
       "      <td>cont</td>\n",
       "    </tr>\n",
       "  </tbody>\n",
       "</table>\n",
       "</div>"
      ],
      "text/plain": [
       "                         dtype percent null cont or disc\n",
       "id               <class 'int'>            0         cont\n",
       "date             <class 'str'>            0         cont\n",
       "price          <class 'float'>            0         cont\n",
       "bedrooms         <class 'int'>            0         disc\n",
       "bathrooms      <class 'float'>            0         disc\n",
       "sqft_living      <class 'int'>            0         cont\n",
       "sqft_lot         <class 'int'>            0         cont\n",
       "floors         <class 'float'>            0         disc\n",
       "waterfront     <class 'float'>        11.02         disc\n",
       "view           <class 'float'>         0.28         disc\n",
       "condition        <class 'int'>            0         disc\n",
       "grade            <class 'int'>            0         disc\n",
       "sqft_above       <class 'int'>            0         cont\n",
       "sqft_basement    <class 'str'>            0         cont\n",
       "yr_built         <class 'int'>            0         cont\n",
       "yr_renovated   <class 'float'>        17.72         disc\n",
       "zipcode          <class 'int'>            0         disc\n",
       "lat            <class 'float'>            0         cont\n",
       "long           <class 'float'>            0         cont\n",
       "sqft_living15    <class 'int'>            0         cont\n",
       "sqft_lot15       <class 'int'>            0         cont"
      ]
     },
     "execution_count": 8,
     "metadata": {},
     "output_type": "execute_result"
    }
   ],
   "source": [
    "null_percentage_and_data_continuity(df)"
   ]
  },
  {
   "cell_type": "markdown",
   "metadata": {},
   "source": [
    "For waterfront, 11% of the values are null and the data appears to be discrete. We check the unique values."
   ]
  },
  {
   "cell_type": "code",
   "execution_count": 9,
   "metadata": {},
   "outputs": [
    {
     "name": "stdout",
     "output_type": "stream",
     "text": [
      "[nan  0.  1.]\n",
      "0.0    16280\n",
      "1.0      125\n",
      "Name: waterfront, dtype: int64\n",
      "99.23803718378544\n",
      "0.7619628162145687\n"
     ]
    }
   ],
   "source": [
    "print(df['waterfront'].unique())\n",
    "print(df['waterfront'].value_counts())\n",
    "for count in list(df['waterfront'].value_counts()):\n",
    "    print(count / sum(list(df['waterfront'].value_counts()))*100)"
   ]
  },
  {
   "cell_type": "markdown",
   "metadata": {},
   "source": [
    "Waterfront is binary, with 0 as no waterfront view and 1 as a waterfront view. Since the value count of 0 is significantly more common (99.2%), we replace all null values with 0."
   ]
  },
  {
   "cell_type": "code",
   "execution_count": 10,
   "metadata": {},
   "outputs": [
    {
     "data": {
      "text/plain": [
       "False"
      ]
     },
     "execution_count": 10,
     "metadata": {},
     "output_type": "execute_result"
    }
   ],
   "source": [
    "df.loc[:, 'waterfront'] = df['waterfront'].fillna(0.0)\n",
    "df.waterfront.isna().any()"
   ]
  },
  {
   "cell_type": "markdown",
   "metadata": {},
   "source": [
    "Moving onto view. The description for view is \"has been viewed.\" Although we cannot confirm, we picture this as the number of people who have viewed the house at the time that the data for this house sale was collected. 0.29% of the view values are null and it appears to be discrete. Below we check the unique values."
   ]
  },
  {
   "cell_type": "code",
   "execution_count": 11,
   "metadata": {},
   "outputs": [
    {
     "name": "stdout",
     "output_type": "stream",
     "text": [
      "[ 0. nan  3.  2.  4.  1.]\n",
      "0.0    16562\n",
      "2.0      841\n",
      "3.0      425\n",
      "1.0      289\n",
      "4.0      269\n",
      "Name: view, dtype: int64\n",
      "0.0\n",
      "90.07940824540411\n",
      "4.574132492113565\n",
      "2.3115413901881867\n",
      "1.5718481453279671\n",
      "1.4630697269661699\n"
     ]
    }
   ],
   "source": [
    "print(df['view'].unique())\n",
    "print(df['view'].value_counts())\n",
    "print(df['view'].median())\n",
    "for count in list(df['view'].value_counts()):\n",
    "    print(count / sum(list(df['view'].value_counts()))*100)"
   ]
  },
  {
   "cell_type": "markdown",
   "metadata": {},
   "source": [
    "Since the value count of 0 is significantly more common (90.2%, also the median), we decided to replace all null values with 0."
   ]
  },
  {
   "cell_type": "code",
   "execution_count": 12,
   "metadata": {},
   "outputs": [
    {
     "data": {
      "text/plain": [
       "False"
      ]
     },
     "execution_count": 12,
     "metadata": {},
     "output_type": "execute_result"
    }
   ],
   "source": [
    "df.loc[:, 'view'] = df['view'].fillna(0.0)\n",
    "df['view'].isna().any()"
   ]
  },
  {
   "cell_type": "markdown",
   "metadata": {},
   "source": [
    "For yr_renovated, the values are the year where any renovations took place. They appear to be discrete and 17.8% of the values are null. Below are the unique values."
   ]
  },
  {
   "cell_type": "code",
   "execution_count": 13,
   "metadata": {},
   "outputs": [
    {
     "name": "stdout",
     "output_type": "stream",
     "text": [
      "0.0       14516\n",
      "2014.0       62\n",
      "2003.0       28\n",
      "2013.0       28\n",
      "2000.0       27\n",
      "Name: yr_renovated, dtype: int64\n"
     ]
    },
    {
     "data": {
      "text/plain": [
       "3.547214839724467"
      ]
     },
     "execution_count": 13,
     "metadata": {},
     "output_type": "execute_result"
    }
   ],
   "source": [
    "print(df['yr_renovated'].value_counts().head())\n",
    "renovated_num = df.loc[df['yr_renovated'] > 0, :].shape[0]\n",
    "renovated_num/len(df)*100"
   ]
  },
  {
   "cell_type": "markdown",
   "metadata": {},
   "source": [
    "Looking at the unique values we see that null and 0 are values for year renovated. We were already aware of the nulls, and decide that 0 could either mean that house was never renovated or renovations were not tracked. We decided to drop year renovated because of the uncertainty and because actual house renovations are only 3.4% of the year renovated values. "
   ]
  },
  {
   "cell_type": "code",
   "execution_count": 14,
   "metadata": {},
   "outputs": [
    {
     "data": {
      "text/plain": [
       "Index(['id', 'date', 'price', 'bedrooms', 'bathrooms', 'sqft_living',\n",
       "       'sqft_lot', 'floors', 'waterfront', 'view', 'condition', 'grade',\n",
       "       'sqft_above', 'sqft_basement', 'yr_built', 'zipcode', 'lat', 'long',\n",
       "       'sqft_living15', 'sqft_lot15'],\n",
       "      dtype='object')"
      ]
     },
     "execution_count": 14,
     "metadata": {},
     "output_type": "execute_result"
    }
   ],
   "source": [
    "df.drop('yr_renovated', axis=1, inplace=True)\n",
    "df.columns"
   ]
  },
  {
   "cell_type": "markdown",
   "metadata": {},
   "source": [
    "## Change data types"
   ]
  },
  {
   "cell_type": "markdown",
   "metadata": {},
   "source": [
    "For the ID column we considered changing the values to an object and making that the primary key. From looking at unique values for the column (see below), we saw that there were some duplicates because the ID seems to refer to house sale instance, and some houses have been sold more than once. Since the ID column is not valuable to us as a primary key, we decided to drop the column. We also considered dropping duplicate values, but since we are using data about all house sale instances, we decided to keep it in."
   ]
  },
  {
   "cell_type": "code",
   "execution_count": 15,
   "metadata": {},
   "outputs": [
    {
     "data": {
      "text/plain": [
       "True"
      ]
     },
     "execution_count": 15,
     "metadata": {},
     "output_type": "execute_result"
    }
   ],
   "source": [
    "df['id'].duplicated().any()"
   ]
  },
  {
   "cell_type": "code",
   "execution_count": 16,
   "metadata": {},
   "outputs": [
    {
     "data": {
      "text/plain": [
       "Index(['date', 'price', 'bedrooms', 'bathrooms', 'sqft_living', 'sqft_lot',\n",
       "       'floors', 'waterfront', 'view', 'condition', 'grade', 'sqft_above',\n",
       "       'sqft_basement', 'yr_built', 'zipcode', 'lat', 'long', 'sqft_living15',\n",
       "       'sqft_lot15'],\n",
       "      dtype='object')"
      ]
     },
     "execution_count": 16,
     "metadata": {},
     "output_type": "execute_result"
    }
   ],
   "source": [
    "df.drop('id', axis=1, inplace=True)\n",
    "df.columns"
   ]
  },
  {
   "cell_type": "markdown",
   "metadata": {},
   "source": [
    "To change the sqft_basement from an object to an integer, we try using pd.to_numeric, this returns an error. Looking at unique values, we see that the only non-numeric value are questionmarks."
   ]
  },
  {
   "cell_type": "code",
   "execution_count": 17,
   "metadata": {},
   "outputs": [
    {
     "data": {
      "text/plain": [
       "array(['0.0', '910.0', '1530.0', '?', '730.0', '1700.0', '300.0', '970.0',\n",
       "       '760.0', '700.0', '820.0', '780.0', '330.0', '1620.0', '360.0',\n",
       "       '588.0', '1510.0', '410.0', '990.0', '600.0', '1000.0', '1600.0',\n",
       "       '500.0', '1040.0', '880.0', '1010.0', '240.0', '290.0', '800.0',\n",
       "       '540.0', '560.0', '710.0', '840.0', '380.0', '570.0', '1490.0',\n",
       "       '620.0', '1250.0', '120.0', '650.0', '180.0', '1130.0', '450.0',\n",
       "       '1640.0', '1460.0', '1020.0', '1030.0', '750.0', '400.0', '640.0',\n",
       "       '1070.0', '1310.0', '630.0', '2000.0', '390.0', '430.0', '850.0',\n",
       "       '210.0', '1430.0', '1950.0', '440.0', '220.0', '1160.0', '860.0',\n",
       "       '580.0', '2060.0', '1820.0', '790.0', '1180.0', '200.0', '1150.0',\n",
       "       '1200.0', '680.0', '530.0', '1450.0', '1170.0', '1080.0', '960.0',\n",
       "       '280.0', '870.0', '1100.0', '460.0', '770.0', '1400.0', '720.0',\n",
       "       '490.0', '660.0', '900.0', '420.0', '1580.0', '1380.0', '475.0',\n",
       "       '690.0', '350.0', '935.0', '1370.0', '980.0', '1470.0', '160.0',\n",
       "       '950.0', '50.0', '740.0', '1780.0', '1900.0', '340.0', '470.0',\n",
       "       '370.0', '480.0', '1760.0', '130.0', '520.0', '890.0', '1220.0',\n",
       "       '270.0', '140.0', '810.0', '190.0', '670.0', '1800.0', '1110.0',\n",
       "       '1810.0', '60.0', '1050.0', '940.0', '310.0', '930.0', '610.0',\n",
       "       '1830.0', '1300.0', '510.0', '1330.0', '1590.0', '550.0', '1270.0',\n",
       "       '1320.0', '1420.0', '1240.0', '1960.0', '2020.0', '1190.0',\n",
       "       '2110.0', '1230.0', '170.0', '830.0', '920.0', '1290.0', '1280.0',\n",
       "       '250.0', '1410.0', '1340.0', '590.0', '1500.0', '1140.0', '260.0',\n",
       "       '100.0', '150.0', '1260.0', '1060.0', '1670.0', '1350.0', '1120.0',\n",
       "       '2570.0', '320.0', '1090.0', '110.0', '1480.0', '2500.0', '90.0',\n",
       "       '1940.0', '2350.0', '2490.0', '1481.0', '1360.0', '1520.0',\n",
       "       '1660.0', '1390.0', '2130.0', '2600.0', '1850.0', '1690.0',\n",
       "       '243.0', '1210.0', '1024.0', '1798.0', '1610.0', '1440.0',\n",
       "       '1570.0', '1650.0', '704.0', '1910.0', '1630.0', '2360.0',\n",
       "       '1852.0', '2090.0', '2400.0', '1790.0', '2150.0', '230.0', '70.0',\n",
       "       '1680.0', '2100.0', '1710.0', '2030.0', '875.0', '1540.0',\n",
       "       '2170.0', '506.0', '906.0', '1560.0', '1720.0', '145.0', '2040.0',\n",
       "       '374.0', '518.0', '2720.0', '2730.0', '1840.0', '3480.0', '2160.0',\n",
       "       '1870.0', '1920.0', '2330.0', '1860.0', '2050.0', '4820.0',\n",
       "       '1913.0', '1550.0', '80.0', '2010.0', '3260.0', '2200.0', '415.0',\n",
       "       '1730.0', '652.0', '2196.0', '1930.0', '515.0', '40.0', '2080.0',\n",
       "       '2580.0', '1548.0', '1740.0', '235.0', '861.0', '1890.0', '2220.0',\n",
       "       '792.0', '2070.0', '4130.0', '2250.0', '2240.0', '1990.0', '768.0',\n",
       "       '2550.0', '435.0', '1008.0', '2300.0', '666.0', '3500.0', '1750.0',\n",
       "       '172.0', '1816.0', '2190.0', '1245.0', '1525.0', '862.0', '946.0',\n",
       "       '1281.0', '2180.0', '276.0', '1248.0', '516.0', '225.0', '1275.0',\n",
       "       '266.0', '283.0', '2310.0', '414.0', '10.0', '295.0', '207.0',\n",
       "       '556.0', '143.0', '508.0', '2810.0', '20.0', '274.0', '248.0'],\n",
       "      dtype=object)"
      ]
     },
     "execution_count": 17,
     "metadata": {},
     "output_type": "execute_result"
    }
   ],
   "source": [
    "df['sqft_basement'].unique()"
   ]
  },
  {
   "cell_type": "code",
   "execution_count": 19,
   "metadata": {},
   "outputs": [
    {
     "name": "stdout",
     "output_type": "stream",
     "text": [
      "0.0      10934\n",
      "?          386\n",
      "600.0      197\n",
      "500.0      176\n",
      "800.0      176\n",
      "Name: sqft_basement, dtype: int64\n"
     ]
    },
    {
     "data": {
      "text/plain": [
       "2.093616098063676"
      ]
     },
     "execution_count": 19,
     "metadata": {},
     "output_type": "execute_result"
    }
   ],
   "source": [
    "print(df['sqft_basement'].value_counts().head())\n",
    "questionmark_num = df.loc[df['sqft_basement'] == '?', :].shape[0]\n",
    "questionmark_num/len(df)*100"
   ]
  },
  {
   "cell_type": "markdown",
   "metadata": {},
   "source": [
    "Although the questionmark has the second highest value count, it is only 2.1% of the sqft_basement values. Since we have square foot living and square foot above data, we replace each questionmark with the difference of the two values. "
   ]
  },
  {
   "cell_type": "code",
   "execution_count": 20,
   "metadata": {},
   "outputs": [
    {
     "data": {
      "text/plain": [
       "dtype('float64')"
      ]
     },
     "execution_count": 20,
     "metadata": {},
     "output_type": "execute_result"
    }
   ],
   "source": [
    "df.sqft_basement = df.sqft_basement.replace('?', df['sqft_living'] - df['sqft_above'])\n",
    "df.sqft_basement = pd.to_numeric(df['sqft_basement'])\n",
    "df.sqft_basement.dtype"
   ]
  },
  {
   "cell_type": "markdown",
   "metadata": {},
   "source": [
    "Moving on to zipcode, all the unique values look like zipcodes, so we convert them to strings."
   ]
  },
  {
   "cell_type": "code",
   "execution_count": 21,
   "metadata": {},
   "outputs": [
    {
     "data": {
      "text/plain": [
       "array([98178, 98136, 98074, 98053, 98003, 98198, 98146, 98038, 98007,\n",
       "       98115, 98028, 98126, 98019, 98002, 98133, 98092, 98030, 98119,\n",
       "       98112, 98052, 98027, 98117, 98058, 98107, 98001, 98056, 98166,\n",
       "       98023, 98070, 98148, 98105, 98042, 98008, 98059, 98144, 98004,\n",
       "       98005, 98125, 98075, 98116, 98010, 98118, 98199, 98040, 98032,\n",
       "       98102, 98077, 98103, 98108, 98168, 98177, 98034, 98065, 98029,\n",
       "       98006, 98109, 98022, 98033, 98122, 98155, 98024, 98011, 98031,\n",
       "       98106, 98045, 98072, 98188, 98014, 98055, 98039])"
      ]
     },
     "execution_count": 21,
     "metadata": {},
     "output_type": "execute_result"
    }
   ],
   "source": [
    "df.zipcode.unique()"
   ]
  },
  {
   "cell_type": "code",
   "execution_count": 22,
   "metadata": {},
   "outputs": [
    {
     "data": {
      "text/plain": [
       "dtype('O')"
      ]
     },
     "execution_count": 22,
     "metadata": {},
     "output_type": "execute_result"
    }
   ],
   "source": [
    "df['zipcode'] = df['zipcode'].astype(str)\n",
    "df['zipcode'].dtype"
   ]
  },
  {
   "cell_type": "markdown",
   "metadata": {},
   "source": [
    "The last data type change is to change the date column from object to date type so that it is easier to manipulate."
   ]
  },
  {
   "cell_type": "code",
   "execution_count": 23,
   "metadata": {},
   "outputs": [
    {
     "data": {
      "text/plain": [
       "dtype('<M8[ns]')"
      ]
     },
     "execution_count": 23,
     "metadata": {},
     "output_type": "execute_result"
    }
   ],
   "source": [
    "df['date'] = pd.to_datetime(df['date'], format=\"%m/%d/%Y\")\n",
    "df.date.dtype"
   ]
  },
  {
   "cell_type": "markdown",
   "metadata": {},
   "source": [
    "### Feature Scaling"
   ]
  },
  {
   "cell_type": "markdown",
   "metadata": {},
   "source": [
    "We think that specific dates will not be significant in predicting housing price so we decide to add year and month columns to the dataframe and remove the date column. "
   ]
  },
  {
   "cell_type": "code",
   "execution_count": 24,
   "metadata": {},
   "outputs": [],
   "source": [
    "df['year'] = df['date'].dt.year\n",
    "df['month'] = df['date'].dt.month\n",
    "df.drop(['date'], axis=1, inplace=True)"
   ]
  },
  {
   "cell_type": "markdown",
   "metadata": {},
   "source": [
    "After our initial exploratory data analysis, we discover that year is mostly binary, with data from only 2014 and 2015. We decide to drop year and change month to a string. Before multiple linear regression we will on-hot-encode month."
   ]
  },
  {
   "cell_type": "code",
   "execution_count": 25,
   "metadata": {},
   "outputs": [
    {
     "data": {
      "text/plain": [
       "dtype('O')"
      ]
     },
     "execution_count": 25,
     "metadata": {},
     "output_type": "execute_result"
    }
   ],
   "source": [
    "df['month'] = df['month'].astype(str)\n",
    "df['month'].dtype"
   ]
  },
  {
   "cell_type": "markdown",
   "metadata": {},
   "source": [
    "We think distance to employment center will be an important predictor variable and use latitude and longitude to calculate distance from Seattle with the Pike Pine Retail Core as the epicenter."
   ]
  },
  {
   "cell_type": "code",
   "execution_count": 27,
   "metadata": {},
   "outputs": [],
   "source": [
    "long_lat = df[['long', 'lat']] # take dataframe subset"
   ]
  },
  {
   "cell_type": "code",
   "execution_count": 31,
   "metadata": {},
   "outputs": [
    {
     "ename": "KeyError",
     "evalue": "\"['lat' 'long'] not found in axis\"",
     "output_type": "error",
     "traceback": [
      "\u001b[0;31m---------------------------------------------------------------------------\u001b[0m",
      "\u001b[0;31mKeyError\u001b[0m                                  Traceback (most recent call last)",
      "\u001b[0;32m<ipython-input-31-d86c43ab5d13>\u001b[0m in \u001b[0;36m<module>\u001b[0;34m()\u001b[0m\n\u001b[1;32m     22\u001b[0m \u001b[0;34m\u001b[0m\u001b[0m\n\u001b[1;32m     23\u001b[0m \u001b[0mdf\u001b[0m\u001b[0;34m[\u001b[0m\u001b[0;34m'dist_to_seattle'\u001b[0m\u001b[0;34m]\u001b[0m \u001b[0;34m=\u001b[0m \u001b[0mlong_lat\u001b[0m\u001b[0;34m.\u001b[0m\u001b[0mapply\u001b[0m\u001b[0;34m(\u001b[0m\u001b[0mhaversine\u001b[0m\u001b[0;34m,\u001b[0m \u001b[0maxis\u001b[0m\u001b[0;34m=\u001b[0m\u001b[0;36m1\u001b[0m\u001b[0;34m)\u001b[0m\u001b[0;34m\u001b[0m\u001b[0m\n\u001b[0;32m---> 24\u001b[0;31m \u001b[0mdf\u001b[0m \u001b[0;34m=\u001b[0m \u001b[0mdf\u001b[0m\u001b[0;34m.\u001b[0m\u001b[0mdrop\u001b[0m\u001b[0;34m(\u001b[0m\u001b[0;34m[\u001b[0m\u001b[0;34m'lat'\u001b[0m\u001b[0;34m,\u001b[0m \u001b[0;34m'long'\u001b[0m\u001b[0;34m]\u001b[0m\u001b[0;34m,\u001b[0m \u001b[0maxis\u001b[0m\u001b[0;34m=\u001b[0m\u001b[0;36m1\u001b[0m\u001b[0;34m)\u001b[0m\u001b[0;34m\u001b[0m\u001b[0m\n\u001b[0m",
      "\u001b[0;32m/anaconda3/envs/learn-env/lib/python3.6/site-packages/pandas/core/frame.py\u001b[0m in \u001b[0;36mdrop\u001b[0;34m(self, labels, axis, index, columns, level, inplace, errors)\u001b[0m\n\u001b[1;32m   3938\u001b[0m                                            \u001b[0mindex\u001b[0m\u001b[0;34m=\u001b[0m\u001b[0mindex\u001b[0m\u001b[0;34m,\u001b[0m \u001b[0mcolumns\u001b[0m\u001b[0;34m=\u001b[0m\u001b[0mcolumns\u001b[0m\u001b[0;34m,\u001b[0m\u001b[0;34m\u001b[0m\u001b[0m\n\u001b[1;32m   3939\u001b[0m                                            \u001b[0mlevel\u001b[0m\u001b[0;34m=\u001b[0m\u001b[0mlevel\u001b[0m\u001b[0;34m,\u001b[0m \u001b[0minplace\u001b[0m\u001b[0;34m=\u001b[0m\u001b[0minplace\u001b[0m\u001b[0;34m,\u001b[0m\u001b[0;34m\u001b[0m\u001b[0m\n\u001b[0;32m-> 3940\u001b[0;31m                                            errors=errors)\n\u001b[0m\u001b[1;32m   3941\u001b[0m \u001b[0;34m\u001b[0m\u001b[0m\n\u001b[1;32m   3942\u001b[0m     @rewrite_axis_style_signature('mapper', [('copy', True),\n",
      "\u001b[0;32m/anaconda3/envs/learn-env/lib/python3.6/site-packages/pandas/core/generic.py\u001b[0m in \u001b[0;36mdrop\u001b[0;34m(self, labels, axis, index, columns, level, inplace, errors)\u001b[0m\n\u001b[1;32m   3778\u001b[0m         \u001b[0;32mfor\u001b[0m \u001b[0maxis\u001b[0m\u001b[0;34m,\u001b[0m \u001b[0mlabels\u001b[0m \u001b[0;32min\u001b[0m \u001b[0maxes\u001b[0m\u001b[0;34m.\u001b[0m\u001b[0mitems\u001b[0m\u001b[0;34m(\u001b[0m\u001b[0;34m)\u001b[0m\u001b[0;34m:\u001b[0m\u001b[0;34m\u001b[0m\u001b[0m\n\u001b[1;32m   3779\u001b[0m             \u001b[0;32mif\u001b[0m \u001b[0mlabels\u001b[0m \u001b[0;32mis\u001b[0m \u001b[0;32mnot\u001b[0m \u001b[0;32mNone\u001b[0m\u001b[0;34m:\u001b[0m\u001b[0;34m\u001b[0m\u001b[0m\n\u001b[0;32m-> 3780\u001b[0;31m                 \u001b[0mobj\u001b[0m \u001b[0;34m=\u001b[0m \u001b[0mobj\u001b[0m\u001b[0;34m.\u001b[0m\u001b[0m_drop_axis\u001b[0m\u001b[0;34m(\u001b[0m\u001b[0mlabels\u001b[0m\u001b[0;34m,\u001b[0m \u001b[0maxis\u001b[0m\u001b[0;34m,\u001b[0m \u001b[0mlevel\u001b[0m\u001b[0;34m=\u001b[0m\u001b[0mlevel\u001b[0m\u001b[0;34m,\u001b[0m \u001b[0merrors\u001b[0m\u001b[0;34m=\u001b[0m\u001b[0merrors\u001b[0m\u001b[0;34m)\u001b[0m\u001b[0;34m\u001b[0m\u001b[0m\n\u001b[0m\u001b[1;32m   3781\u001b[0m \u001b[0;34m\u001b[0m\u001b[0m\n\u001b[1;32m   3782\u001b[0m         \u001b[0;32mif\u001b[0m \u001b[0minplace\u001b[0m\u001b[0;34m:\u001b[0m\u001b[0;34m\u001b[0m\u001b[0m\n",
      "\u001b[0;32m/anaconda3/envs/learn-env/lib/python3.6/site-packages/pandas/core/generic.py\u001b[0m in \u001b[0;36m_drop_axis\u001b[0;34m(self, labels, axis, level, errors)\u001b[0m\n\u001b[1;32m   3810\u001b[0m                 \u001b[0mnew_axis\u001b[0m \u001b[0;34m=\u001b[0m \u001b[0maxis\u001b[0m\u001b[0;34m.\u001b[0m\u001b[0mdrop\u001b[0m\u001b[0;34m(\u001b[0m\u001b[0mlabels\u001b[0m\u001b[0;34m,\u001b[0m \u001b[0mlevel\u001b[0m\u001b[0;34m=\u001b[0m\u001b[0mlevel\u001b[0m\u001b[0;34m,\u001b[0m \u001b[0merrors\u001b[0m\u001b[0;34m=\u001b[0m\u001b[0merrors\u001b[0m\u001b[0;34m)\u001b[0m\u001b[0;34m\u001b[0m\u001b[0m\n\u001b[1;32m   3811\u001b[0m             \u001b[0;32melse\u001b[0m\u001b[0;34m:\u001b[0m\u001b[0;34m\u001b[0m\u001b[0m\n\u001b[0;32m-> 3812\u001b[0;31m                 \u001b[0mnew_axis\u001b[0m \u001b[0;34m=\u001b[0m \u001b[0maxis\u001b[0m\u001b[0;34m.\u001b[0m\u001b[0mdrop\u001b[0m\u001b[0;34m(\u001b[0m\u001b[0mlabels\u001b[0m\u001b[0;34m,\u001b[0m \u001b[0merrors\u001b[0m\u001b[0;34m=\u001b[0m\u001b[0merrors\u001b[0m\u001b[0;34m)\u001b[0m\u001b[0;34m\u001b[0m\u001b[0m\n\u001b[0m\u001b[1;32m   3813\u001b[0m             \u001b[0mresult\u001b[0m \u001b[0;34m=\u001b[0m \u001b[0mself\u001b[0m\u001b[0;34m.\u001b[0m\u001b[0mreindex\u001b[0m\u001b[0;34m(\u001b[0m\u001b[0;34m**\u001b[0m\u001b[0;34m{\u001b[0m\u001b[0maxis_name\u001b[0m\u001b[0;34m:\u001b[0m \u001b[0mnew_axis\u001b[0m\u001b[0;34m}\u001b[0m\u001b[0;34m)\u001b[0m\u001b[0;34m\u001b[0m\u001b[0m\n\u001b[1;32m   3814\u001b[0m \u001b[0;34m\u001b[0m\u001b[0m\n",
      "\u001b[0;32m/anaconda3/envs/learn-env/lib/python3.6/site-packages/pandas/core/indexes/base.py\u001b[0m in \u001b[0;36mdrop\u001b[0;34m(self, labels, errors)\u001b[0m\n\u001b[1;32m   4963\u001b[0m             \u001b[0;32mif\u001b[0m \u001b[0merrors\u001b[0m \u001b[0;34m!=\u001b[0m \u001b[0;34m'ignore'\u001b[0m\u001b[0;34m:\u001b[0m\u001b[0;34m\u001b[0m\u001b[0m\n\u001b[1;32m   4964\u001b[0m                 raise KeyError(\n\u001b[0;32m-> 4965\u001b[0;31m                     '{} not found in axis'.format(labels[mask]))\n\u001b[0m\u001b[1;32m   4966\u001b[0m             \u001b[0mindexer\u001b[0m \u001b[0;34m=\u001b[0m \u001b[0mindexer\u001b[0m\u001b[0;34m[\u001b[0m\u001b[0;34m~\u001b[0m\u001b[0mmask\u001b[0m\u001b[0;34m]\u001b[0m\u001b[0;34m\u001b[0m\u001b[0m\n\u001b[1;32m   4967\u001b[0m         \u001b[0;32mreturn\u001b[0m \u001b[0mself\u001b[0m\u001b[0;34m.\u001b[0m\u001b[0mdelete\u001b[0m\u001b[0;34m(\u001b[0m\u001b[0mindexer\u001b[0m\u001b[0;34m)\u001b[0m\u001b[0;34m\u001b[0m\u001b[0m\n",
      "\u001b[0;31mKeyError\u001b[0m: \"['lat' 'long'] not found in axis\""
     ]
    }
   ],
   "source": [
    "# adapted from:  https://stackoverflow.com/questions/4913349/haversine-formula-in-python-bearing-and-distance-between-two-gps-points/4913653\n",
    "\n",
    "from math import radians, cos, sin, asin, sqrt\n",
    "\n",
    "def haversine(df_lon_lat, lon2=-122.336283, lat2=47.609395):\n",
    "    \"\"\"\n",
    "    Calculate the great circle distance between two points \n",
    "    on the earth (specified in decimal degrees), in this case the 2nd point is in the Pike Pine Retail Core\n",
    "    \"\"\"\n",
    "    lon1, lat1 = df_lon_lat[0], df_lon_lat[1]\n",
    "    \n",
    "    # convert decimal degrees to radians \n",
    "    lon1, lat1, lon2, lat2 = map(radians, [lon1, lat1, lon2, lat2])\n",
    "    # haversine formula \n",
    "    dlon = lon2 - lon1 \n",
    "    dlat = lat2 - lat1 \n",
    "    a = sin(dlat/2)**2 + cos(lat1) * cos(lat2) * sin(dlon/2)**2\n",
    "    c = 2 * asin(sqrt(a)) \n",
    "    # Radius of earth in kilometers is 6371\n",
    "    km = 6371 * c\n",
    "    return km\n",
    "\n",
    "df['dist_to_seattle'] = long_lat.apply(haversine, axis=1)\n",
    "df = df.drop(['lat', 'long'], axis=1)"
   ]
  },
  {
   "cell_type": "markdown",
   "metadata": {},
   "source": [
    "From our domain knowledge of real estate, we know that house prices are often set by the prices of surrounding houses. We explore using latitude and longitude to determine average housing price of the 15 nearest neighbors and estimate that it would add ~200 million columns and be too computationally expensive. We explore using other libraries like GeoPandas and SciPy to make it less computationally expensive. We believe that using the scipy.spatial.cKDTree class (https://docs.scipy.org/doc/scipy/reference/generated/scipy.spatial.cKDTree.html) is a viable way to do it but due to time constraints decide to move on. Instead we take the average zipcode price as an additional predictor variable."
   ]
  },
  {
   "cell_type": "code",
   "execution_count": 29,
   "metadata": {},
   "outputs": [],
   "source": [
    "df['z_price'] = df['zipcode'].map(df.groupby('zipcode')['price'].mean())"
   ]
  },
  {
   "cell_type": "markdown",
   "metadata": {},
   "source": [
    "## Step 2: Exploratory Data Analysis of King County Housing Data"
   ]
  },
  {
   "cell_type": "markdown",
   "metadata": {},
   "source": [
    "To get an initial visualization of our data we make joint plots of all our predictor variables against target variable. "
   ]
  },
  {
   "cell_type": "code",
   "execution_count": 32,
   "metadata": {},
   "outputs": [
    {
     "data": {
      "text/plain": [
       "Index(['price', 'bedrooms', 'bathrooms', 'sqft_living', 'sqft_lot', 'floors',\n",
       "       'waterfront', 'view', 'condition', 'grade', 'sqft_above',\n",
       "       'sqft_basement', 'yr_built', 'zipcode', 'sqft_living15', 'sqft_lot15',\n",
       "       'year', 'month', 'dist_to_seattle', 'z_price'],\n",
       "      dtype='object')"
      ]
     },
     "execution_count": 32,
     "metadata": {},
     "output_type": "execute_result"
    }
   ],
   "source": [
    "df.columns"
   ]
  },
  {
   "cell_type": "code",
   "execution_count": null,
   "metadata": {},
   "outputs": [],
   "source": [
    "eda_variable_df = df..copy()"
   ]
  },
  {
   "cell_type": "code",
   "execution_count": null,
   "metadata": {},
   "outputs": [],
   "source": [
    "def make_jp(data):\n",
    "    \"\"\"Make joint plot of each predictor variable and target uvariable\"\"\"\n",
    "    for i, col in enumerate(data):\n",
    "        sns.jointplot(data[col], df['price'], kind='reg', scatter_kws={'alpha':0.15}, height=8)"
   ]
  },
  {
   "cell_type": "code",
   "execution_count": null,
   "metadata": {},
   "outputs": [],
   "source": [
    "make_jp(eda_variable_df)"
   ]
  },
  {
   "cell_type": "markdown",
   "metadata": {},
   "source": [
    "### Check for Multicollinearity"
   ]
  },
  {
   "cell_type": "markdown",
   "metadata": {},
   "source": [
    "First, we made a heatmap to get a visual of the correlation matrix for our data."
   ]
  },
  {
   "cell_type": "code",
   "execution_count": null,
   "metadata": {},
   "outputs": [],
   "source": [
    "def corr_matrix(df):\n",
    "    \"\"\"Make a correlation matrix to check data for collinearity.\"\"\"\n",
    "    # Compute the correlation matrix\n",
    "    corr = np.abs(df.corr())\n",
    "\n",
    "    # Generate a mask for the upper triangle\n",
    "    mask = np.zeros_like(corr, dtype=np.bool)\n",
    "    mask[np.triu_indices_from(mask)] = True\n",
    "\n",
    "    # Set up the matplotlib figure\n",
    "    f, ax = plt.subplots(figsize=(15, 10))\n",
    "\n",
    "    # Generate a custom diverging colormap\n",
    "    cmap = sns.diverging_palette(220, 10, as_cmap=True)\n",
    "\n",
    "    # Draw the heatmap with the mask and correct aspect ratio\n",
    "    plt.title('Correlation Matrix Heatmap')\n",
    "    sns.heatmap(corr, mask=mask, cmap=cmap, vmax=1, center=0,\n",
    "                square=True, linewidths=.5, cbar_kws={\"shrink\": .5});\n",
    "    \n",
    "corr_matrix(df)"
   ]
  },
  {
   "cell_type": "markdown",
   "metadata": {},
   "source": [
    "We decided to use the absolute value of 0.7 as a cut-off for high correlation."
   ]
  },
  {
   "cell_type": "code",
   "execution_count": null,
   "metadata": {},
   "outputs": [],
   "source": [
    "df_corr = abs(df.corr()) > 0.70\n",
    "df_corr.sum()"
   ]
  },
  {
   "cell_type": "markdown",
   "metadata": {},
   "source": [
    "Square Foot Living is the highest offender for collinearity, however from our domain knowledge and from our test model of a linear regression it also seems to be a good predictor model. For now we will keep it in our variable dataframe for predicting housing price and test our model with removing it, and other variables with high collinearity. For now we will create a variable dataframe of predictor variables to explore, dropping latitude, longitude, and zipcode columns."
   ]
  },
  {
   "cell_type": "markdown",
   "metadata": {},
   "source": [
    "## Step 3: Modeling of King County Housing Data with Multivariate Linear Regression"
   ]
  },
  {
   "cell_type": "markdown",
   "metadata": {},
   "source": [
    "### On-Hot-Encoding"
   ]
  },
  {
   "cell_type": "markdown",
   "metadata": {},
   "source": [
    "Before modeling we on-hot-encoded zipcode and month."
   ]
  },
  {
   "cell_type": "code",
   "execution_count": 40,
   "metadata": {},
   "outputs": [],
   "source": [
    "z_dummies = pd.get_dummies(df['zipcode'], prefix='z')\n",
    "m_dummies = pd.get_dummies(df['month'], prefix='m')"
   ]
  },
  {
   "cell_type": "code",
   "execution_count": 41,
   "metadata": {},
   "outputs": [],
   "source": [
    "df = df.drop(['zipcode', 'month'], axis=1)"
   ]
  },
  {
   "cell_type": "code",
   "execution_count": 42,
   "metadata": {},
   "outputs": [],
   "source": [
    "numeric_df = df.drop('year', axis=1).copy()"
   ]
  },
  {
   "cell_type": "code",
   "execution_count": 43,
   "metadata": {},
   "outputs": [
    {
     "data": {
      "text/plain": [
       "Index(['price', 'bedrooms', 'bathrooms', 'sqft_living', 'sqft_lot', 'floors',\n",
       "       'waterfront', 'view', 'condition', 'grade', 'sqft_above',\n",
       "       'sqft_basement', 'yr_built', 'sqft_living15', 'sqft_lot15',\n",
       "       'dist_to_seattle', 'z_price'],\n",
       "      dtype='object')"
      ]
     },
     "execution_count": 43,
     "metadata": {},
     "output_type": "execute_result"
    }
   ],
   "source": [
    "numeric_df.columns"
   ]
  },
  {
   "cell_type": "code",
   "execution_count": 44,
   "metadata": {},
   "outputs": [],
   "source": [
    "df = pd.concat([df, z_dummies, m_dummies], axis=1)"
   ]
  },
  {
   "cell_type": "markdown",
   "metadata": {},
   "source": [
    "And prepared our dataframes for modeling."
   ]
  },
  {
   "cell_type": "code",
   "execution_count": 45,
   "metadata": {},
   "outputs": [],
   "source": [
    "variable_df = df.drop('price', axis=1)"
   ]
  },
  {
   "cell_type": "code",
   "execution_count": 46,
   "metadata": {},
   "outputs": [],
   "source": [
    "from sklearn.metrics import mean_squared_error\n",
    "from sklearn.model_selection import cross_val_score\n",
    "\n",
    "all_model_mae = {}\n",
    "\n",
    "def linreg_tts(data, response, k=5):\n",
    "    y = response\n",
    "    X = data\n",
    "    X_train, X_test, y_train, y_test = sk.model_selection.train_test_split(X, y, test_size=0.2)\n",
    "    linreg = LinearRegression()\n",
    "    model = linreg.fit(X_train, y_train)\n",
    "    predictions = linreg.predict(X_test)\n",
    "\n",
    "    plt.scatter(y_test, predictions)\n",
    "    plt.xlabel(f\"True Values\")\n",
    "    plt.ylabel(f\"Multi Variable Linear Predictions\")\n",
    "    print(\"Single LinReg Score:\", model.score(X_test, y_test))  \n",
    "    \n",
    "    cross_val_array = cross_val_score(linreg, X, y, cv=k, scoring=\"neg_mean_absolute_error\")#\"neg_mean_squared_error\")\n",
    "    avg_cross_val = np.mean(cross_val_array)\n",
    "    #rmse = np.abs(avg_cross_val)**.5\n",
    "    mae = -avg_cross_val\n",
    "    all_model_mae[(mae, cross_val_array.std())] = list(data.columns)\n",
    "    print(f\"MAE with {k} folds:{mae}\")\n",
    "    return model\n"
   ]
  },
  {
   "cell_type": "code",
   "execution_count": 47,
   "metadata": {},
   "outputs": [
    {
     "name": "stdout",
     "output_type": "stream",
     "text": [
      "Single LinReg Score: 0.47680766222923476\n",
      "MAE with 5 folds:174032.2546439614\n"
     ]
    },
    {
     "data": {
      "text/plain": [
       "LinearRegression(copy_X=True, fit_intercept=True, n_jobs=None,\n",
       "         normalize=False)"
      ]
     },
     "execution_count": 47,
     "metadata": {},
     "output_type": "execute_result"
    },
    {
     "data": {
      "image/png": "[encoded data removed]",
      "text/plain": [
       "<Figure size 432x288 with 1 Axes>"
      ]
     },
     "metadata": {
      "needs_background": "light"
     },
     "output_type": "display_data"
    }
   ],
   "source": [
    "linreg_tts(df[['sqft_living']], df[['price']])"
   ]
  },
  {
   "cell_type": "code",
   "execution_count": 48,
   "metadata": {},
   "outputs": [
    {
     "name": "stdout",
     "output_type": "stream",
     "text": [
      "Single LinReg Score: 0.8124570297821682\n",
      "MAE with 5 folds:96688.79482290575\n"
     ]
    },
    {
     "data": {
      "text/plain": [
       "LinearRegression(copy_X=True, fit_intercept=True, n_jobs=None,\n",
       "         normalize=False)"
      ]
     },
     "execution_count": 48,
     "metadata": {},
     "output_type": "execute_result"
    },
    {
     "data": {
      "image/png": "[encoded data removed]",
      "text/plain": [
       "<Figure size 432x288 with 1 Axes>"
      ]
     },
     "metadata": {
      "needs_background": "light"
     },
     "output_type": "display_data"
    }
   ],
   "source": [
    "linreg_tts(variable_df, df[['price']])"
   ]
  },
  {
   "cell_type": "code",
   "execution_count": 49,
   "metadata": {},
   "outputs": [
    {
     "data": {
      "text/plain": [
       "(16414, 100)"
      ]
     },
     "execution_count": 49,
     "metadata": {},
     "output_type": "execute_result"
    }
   ],
   "source": [
    "numeric_df['price'] = df['price']\n",
    "no_outliers = df[(np.abs(zscore(numeric_df.loc[:, numeric_df.columns])) < 3).all(axis=1)]   \n",
    "no_outliers.shape"
   ]
  },
  {
   "cell_type": "code",
   "execution_count": 50,
   "metadata": {},
   "outputs": [
    {
     "name": "stdout",
     "output_type": "stream",
     "text": [
      "Single LinReg Score: 0.8318465388888275\n",
      "MAE with 5 folds:66035.79692518877\n"
     ]
    },
    {
     "data": {
      "text/plain": [
       "LinearRegression(copy_X=True, fit_intercept=True, n_jobs=None,\n",
       "         normalize=False)"
      ]
     },
     "execution_count": 50,
     "metadata": {},
     "output_type": "execute_result"
    },
    {
     "data": {
      "image/png": "[encoded data removed]",
      "text/plain": [
       "<Figure size 432x288 with 1 Axes>"
      ]
     },
     "metadata": {
      "needs_background": "light"
     },
     "output_type": "display_data"
    }
   ],
   "source": [
    "linreg_tts(no_outliers.drop(['price'], axis=1), no_outliers['price'])"
   ]
  },
  {
   "cell_type": "code",
   "execution_count": 56,
   "metadata": {},
   "outputs": [
    {
     "ename": "AttributeError",
     "evalue": "'Figure' object has no attribute 'title'",
     "output_type": "error",
     "traceback": [
      "\u001b[0;31m---------------------------------------------------------------------------\u001b[0m",
      "\u001b[0;31mAttributeError\u001b[0m                            Traceback (most recent call last)",
      "\u001b[0;32m<ipython-input-56-37825ec7d36d>\u001b[0m in \u001b[0;36m<module>\u001b[0;34m()\u001b[0m\n\u001b[1;32m     16\u001b[0m         \u001b[0mplt\u001b[0m\u001b[0;34m.\u001b[0m\u001b[0mshow\u001b[0m\u001b[0;34m(\u001b[0m\u001b[0;34m)\u001b[0m\u001b[0;34m\u001b[0m\u001b[0m\n\u001b[1;32m     17\u001b[0m \u001b[0;34m\u001b[0m\u001b[0m\n\u001b[0;32m---> 18\u001b[0;31m \u001b[0mlog_test\u001b[0m\u001b[0;34m(\u001b[0m\u001b[0mto_log_or_not_to_log\u001b[0m\u001b[0;34m)\u001b[0m\u001b[0;34m\u001b[0m\u001b[0m\n\u001b[0m",
      "\u001b[0;32m<ipython-input-56-37825ec7d36d>\u001b[0m in \u001b[0;36mlog_test\u001b[0;34m(df)\u001b[0m\n\u001b[1;32m      4\u001b[0m     \u001b[0;32mfor\u001b[0m \u001b[0mcol\u001b[0m \u001b[0;32min\u001b[0m \u001b[0mdf\u001b[0m\u001b[0;34m.\u001b[0m\u001b[0mcolumns\u001b[0m\u001b[0;34m:\u001b[0m\u001b[0;34m\u001b[0m\u001b[0m\n\u001b[1;32m      5\u001b[0m         \u001b[0mfig\u001b[0m \u001b[0;34m=\u001b[0m \u001b[0mplt\u001b[0m\u001b[0;34m.\u001b[0m\u001b[0mfigure\u001b[0m\u001b[0;34m(\u001b[0m\u001b[0mfigsize\u001b[0m\u001b[0;34m=\u001b[0m\u001b[0;34m(\u001b[0m\u001b[0;36m10\u001b[0m\u001b[0;34m,\u001b[0m\u001b[0;36m10\u001b[0m\u001b[0;34m)\u001b[0m\u001b[0;34m)\u001b[0m\u001b[0;34m\u001b[0m\u001b[0m\n\u001b[0;32m----> 6\u001b[0;31m         \u001b[0mfig\u001b[0m\u001b[0;34m.\u001b[0m\u001b[0mtitle\u001b[0m\u001b[0;34m(\u001b[0m\u001b[0mcol\u001b[0m\u001b[0;34m)\u001b[0m\u001b[0;34m\u001b[0m\u001b[0m\n\u001b[0m\u001b[1;32m      7\u001b[0m         \u001b[0mplt\u001b[0m\u001b[0;34m.\u001b[0m\u001b[0msubplot\u001b[0m\u001b[0;34m(\u001b[0m\u001b[0;36m2\u001b[0m\u001b[0;34m,\u001b[0m\u001b[0;36m2\u001b[0m\u001b[0;34m,\u001b[0m\u001b[0;36m1\u001b[0m\u001b[0;34m)\u001b[0m\u001b[0;34m\u001b[0m\u001b[0m\n\u001b[1;32m      8\u001b[0m         \u001b[0msns\u001b[0m\u001b[0;34m.\u001b[0m\u001b[0mdistplot\u001b[0m\u001b[0;34m(\u001b[0m\u001b[0mdf\u001b[0m\u001b[0;34m[\u001b[0m\u001b[0mcol\u001b[0m\u001b[0;34m]\u001b[0m\u001b[0;34m,\u001b[0m \u001b[0mfit\u001b[0m\u001b[0;34m=\u001b[0m\u001b[0mnorm\u001b[0m\u001b[0;34m,\u001b[0m \u001b[0mkde\u001b[0m\u001b[0;34m=\u001b[0m\u001b[0;32mFalse\u001b[0m\u001b[0;34m)\u001b[0m\u001b[0;34m\u001b[0m\u001b[0m\n",
      "\u001b[0;31mAttributeError\u001b[0m: 'Figure' object has no attribute 'title'"
     ]
    },
    {
     "data": {
      "text/plain": [
       "<Figure size 720x720 with 0 Axes>"
      ]
     },
     "metadata": {},
     "output_type": "display_data"
    }
   ],
   "source": [
    "to_log_or_not_to_log = numeric_df\n",
    "\n",
    "def log_test(df):\n",
    "    for col in df.columns:\n",
    "        plt.figure(figsize=(10,10), )\n",
    "        plt.subplot(2,2,1)\n",
    "        sns.distplot(df[col], fit=norm, kde=False)\n",
    "        plt.subplot(2,2,2)\n",
    "        stats.probplot(df[col], plot=plt)\n",
    "        plt.subplot(2,2,3)\n",
    "        sns.distplot(np.log(df[col]), fit=norm, kde=False)\n",
    "        plt.subplot(2,2,4)\n",
    "        stats.probplot(np.log(df[col]), plot=plt)\n",
    "        plt.tight_layout()\n",
    "        plt.show()\n",
    "        \n",
    "log_test(to_log_or_not_to_log)"
   ]
  },
  {
   "cell_type": "code",
   "execution_count": null,
   "metadata": {},
   "outputs": [],
   "source": [
    "to_log = ['price', 'bathrooms', 'sqft_living', 'sqft_lot', 'sqft_above', 'sqft_living15', 'sqft_lot15', 'dist_to_seattle']\n",
    "\n",
    "def log_data(data=df, to_log=to_log):\n",
    "    \"\"\"Creates dataframe with logged data in columns defined by to_log.\"\"\"\n",
    "    logged_data = data.copy()\n",
    "    \n",
    "    for col in to_log:\n",
    "        header = \"log_of_\"+col\n",
    "        logged_data[header] = np.log(logged_data[col])\n",
    "        logged_data = logged_data.drop(col, axis=1)\n",
    "    return logged_data\n",
    "\n",
    "logged_data = log_data(df)\n",
    "logged_data_no_outliers = log_data(no_outliers)"
   ]
  },
  {
   "cell_type": "code",
   "execution_count": null,
   "metadata": {},
   "outputs": [],
   "source": [
    "linreg_tts(logged_data.drop(['log_of_price'], axis=1), logged_data[['log_of_price']])"
   ]
  },
  {
   "cell_type": "code",
   "execution_count": null,
   "metadata": {},
   "outputs": [],
   "source": [
    "linreg_tts(logged_data_no_outliers.drop(['log_of_price'], axis=1), logged_data_no_outliers[['log_of_price']])"
   ]
  },
  {
   "cell_type": "code",
   "execution_count": null,
   "metadata": {},
   "outputs": [],
   "source": [
    "logged_data_no_outliers.head()"
   ]
  },
  {
   "cell_type": "code",
   "execution_count": null,
   "metadata": {},
   "outputs": [],
   "source": [
    "log_pred = final.predict(logged_data_no_outliers.drop(['log_of_price'], axis=1).head(1))"
   ]
  },
  {
   "cell_type": "code",
   "execution_count": null,
   "metadata": {},
   "outputs": [],
   "source": [
    "log_pred"
   ]
  },
  {
   "cell_type": "code",
   "execution_count": null,
   "metadata": {},
   "outputs": [],
   "source": [
    "# all_model_mae"
   ]
  }
 ],
 "metadata": {
  "kernelspec": {
   "display_name": "learn-env",
   "language": "python",
   "name": "learn-env"
  },
  "language_info": {
   "codemirror_mode": {
    "name": "ipython",
    "version": 3
   },
   "file_extension": ".py",
   "mimetype": "text/x-python",
   "name": "python",
   "nbconvert_exporter": "python",
   "pygments_lexer": "ipython3",
   "version": "3.6.6"
  }
 },
 "nbformat": 4,
 "nbformat_minor": 2
}
